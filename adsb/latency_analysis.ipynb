{
 "metadata": {
  "language_info": {
   "codemirror_mode": {
    "name": "ipython",
    "version": 3
   },
   "file_extension": ".py",
   "mimetype": "text/x-python",
   "name": "python",
   "nbconvert_exporter": "python",
   "pygments_lexer": "ipython3",
   "version": "3.8.5-final"
  },
  "orig_nbformat": 2,
  "kernelspec": {
   "name": "python3",
   "display_name": "Python 3.8.5 64-bit ('adsb-env': venv)",
   "metadata": {
    "interpreter": {
     "hash": "1e928955a1241ad6500a5e7065dd85ba7d6534fa9b7cce3f773a9e91de96cbd1"
    }
   }
  }
 },
 "nbformat": 4,
 "nbformat_minor": 2,
 "cells": [
  {
   "cell_type": "code",
   "execution_count": 1,
   "metadata": {},
   "outputs": [],
   "source": [
    "import adsb_util\n",
    "\n"
   ]
  },
  {
   "cell_type": "code",
   "execution_count": 2,
   "metadata": {},
   "outputs": [],
   "source": [
    "flightVectors = adsb_util.pfs('adsb_data/20181210_jfk24h')"
   ]
  },
  {
   "cell_type": "code",
   "execution_count": 3,
   "metadata": {
    "tags": []
   },
   "outputs": [],
   "source": [
    "flightDf = adsb_util.tdf(flightVectors)"
   ]
  },
  {
   "cell_type": "code",
   "execution_count": 4,
   "metadata": {},
   "outputs": [
    {
     "output_type": "execute_result",
     "data": {
      "text/plain": [
       "         Id        Lat       Long     Flighttime    Stationtime  Latency  \\\n",
       "0  10530047  40.794000 -74.089100  1544457946729  1544457951277     4548   \n",
       "1  10530047  40.803100 -74.101700  1544458052704  1544458081476    28772   \n",
       "2  10530047  40.718591 -74.140611  1544493754685  1544493763432     8747   \n",
       "3  10530047  40.718591 -74.140611  1544493754862  1544493828427    73565   \n",
       "4  10530047  40.826359 -74.079874  1544534839419  1544534846121     6702   \n",
       "\n",
       "   Altitude  \n",
       "0      2775  \n",
       "1      2800  \n",
       "2      2200  \n",
       "3      3800  \n",
       "4      2425  "
      ],
      "text/html": "<div>\n<style scoped>\n    .dataframe tbody tr th:only-of-type {\n        vertical-align: middle;\n    }\n\n    .dataframe tbody tr th {\n        vertical-align: top;\n    }\n\n    .dataframe thead th {\n        text-align: right;\n    }\n</style>\n<table border=\"1\" class=\"dataframe\">\n  <thead>\n    <tr style=\"text-align: right;\">\n      <th></th>\n      <th>Id</th>\n      <th>Lat</th>\n      <th>Long</th>\n      <th>Flighttime</th>\n      <th>Stationtime</th>\n      <th>Latency</th>\n      <th>Altitude</th>\n    </tr>\n  </thead>\n  <tbody>\n    <tr>\n      <th>0</th>\n      <td>10530047</td>\n      <td>40.794000</td>\n      <td>-74.089100</td>\n      <td>1544457946729</td>\n      <td>1544457951277</td>\n      <td>4548</td>\n      <td>2775</td>\n    </tr>\n    <tr>\n      <th>1</th>\n      <td>10530047</td>\n      <td>40.803100</td>\n      <td>-74.101700</td>\n      <td>1544458052704</td>\n      <td>1544458081476</td>\n      <td>28772</td>\n      <td>2800</td>\n    </tr>\n    <tr>\n      <th>2</th>\n      <td>10530047</td>\n      <td>40.718591</td>\n      <td>-74.140611</td>\n      <td>1544493754685</td>\n      <td>1544493763432</td>\n      <td>8747</td>\n      <td>2200</td>\n    </tr>\n    <tr>\n      <th>3</th>\n      <td>10530047</td>\n      <td>40.718591</td>\n      <td>-74.140611</td>\n      <td>1544493754862</td>\n      <td>1544493828427</td>\n      <td>73565</td>\n      <td>3800</td>\n    </tr>\n    <tr>\n      <th>4</th>\n      <td>10530047</td>\n      <td>40.826359</td>\n      <td>-74.079874</td>\n      <td>1544534839419</td>\n      <td>1544534846121</td>\n      <td>6702</td>\n      <td>2425</td>\n    </tr>\n  </tbody>\n</table>\n</div>"
     },
     "metadata": {},
     "execution_count": 4
    }
   ],
   "source": [
    "flightDf.head()\n"
   ]
  },
  {
   "cell_type": "code",
   "execution_count": 7,
   "metadata": {},
   "outputs": [
    {
     "output_type": "execute_result",
     "data": {
      "text/plain": [
       "37562"
      ]
     },
     "metadata": {},
     "execution_count": 7
    }
   ],
   "source": [
    "flightDf = adsb_util.clean(flightDf)\n",
    "(flightDf.Latency > 0).count()"
   ]
  },
  {
   "cell_type": "code",
   "execution_count": null,
   "metadata": {},
   "outputs": [],
   "source": []
  }
 ]
}